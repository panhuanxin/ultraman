{
 "cells": [
  {
   "cell_type": "markdown",
   "metadata": {},
   "source": [
    "# 思路：模拟进入>点击查看详情>判断是否需要下一位审批>模拟审批通过>返回目录>循环直至待审批人数为零跳出循环>结束"
   ]
  },
  {
   "cell_type": "markdown",
   "metadata": {},
   "source": [
    "# 提取名字函数"
   ]
  },
  {
   "cell_type": "code",
   "execution_count": 1,
   "metadata": {},
   "outputs": [],
   "source": [
    "def _extract_names(html):\n",
    "    \"\"\"提取名字\"\"\"\n",
    "    reobj = re.compile(r'</td><td class=\"\"><div title=\"[\\s\\S]*?\" class=\"ivu-table-cell ivu-table-cell-ellipsis\"><!----> <!----> <!----> <!----> <!----> <a title=\"([\\s\\S]*?)\"><span>[\\s\\S]*?</span></a></div></td>', re.MULTILINE)\n",
    "    names = [match.group(1) for match in reobj.finditer(html)]\n",
    "    return names"
   ]
  },
  {
   "cell_type": "markdown",
   "metadata": {},
   "source": [
    "# 自动批改函数"
   ]
  },
  {
   "cell_type": "code",
   "execution_count": 2,
   "metadata": {},
   "outputs": [],
   "source": [
    "def _shenpi():\n",
    "    list1 = []\n",
    "    html = driver.page_source\n",
    "    #判断是否需要选择下一位审批人，请假详情有需要选择下一位审批人和不需要两种情况\n",
    "    reobj = re.compile(r'<div data-v-6dc7dd24=\"\" class=\"form-group mb-10\"><label data-v-6dc7dd24=\"\" class=\"label\">下一级([\\s\\S]*?)人：</label> <div data-v-6dc7dd24=\"\" class=\"ivu-select ivu-select-single\" style=\"width: 200px;\"><div class=\"ivu-select-selection\"><input type=\"hidden\">  <span class=\"ivu-select-placeholder\">请([\\s\\S]*?)择', re.MULTILINE)\n",
    "    list1 = [match.group(1) for match in reobj.finditer(html)]\n",
    "    if len(list1)>0:    \n",
    "        driver.find_element_by_xpath(\"//span[contains(text(),'请选择')]\").click()\n",
    "        driver.find_element_by_xpath(\"//li[6]\").click()\n",
    "        time.sleep(1)\n",
    "        driver.find_element_by_xpath(\"//button[@type='button']\").click()\n",
    "        time.sleep(1)\n",
    "        driver.find_element_by_xpath(\"//button[@class='ivu-btn ivu-btn-primary ivu-btn-large']\").click()\n",
    "    else:\n",
    "        time.sleep(1)\n",
    "        driver.find_element_by_xpath(\"//button[@type='button']\").click()\n",
    "        time.sleep(1)\n",
    "        driver.find_element_by_xpath(\"//button[@class='ivu-btn ivu-btn-primary ivu-btn-large']\").click()\n"
   ]
  },
  {
   "cell_type": "code",
   "execution_count": 3,
   "metadata": {},
   "outputs": [],
   "source": [
    "def pg_qingjia():\n",
    "    while True:\n",
    "        html = driver.page_source\n",
    "        names = _extract_names(html)\n",
    "        if len(names) == 0:\n",
    "            print('请假批改完毕')\n",
    "            break \n",
    "        time.sleep(2)\n",
    "        #模拟点击查看详情\n",
    "        driver.find_element_by_xpath(\"/html/body/div[4]/div[2]/div[2]/div/div[2]/div[1]/div/div[3]/div/div/div[5]/div[2]/table/tbody/tr[1]/td[1]/div\").click()\n",
    "        time.sleep(1)\n",
    "        _shenpi()\n",
    "        time.sleep(1)\n",
    "        driver.back()\n",
    "# driver.back()在此处功能相当于driver.get(\"https://zjiet.cpdaily.com/wec-counselor-leave-apps/leaveadmin/pcAdmin/index.html#/list\")\n",
    "        time.sleep(1)"
   ]
  },
  {
   "cell_type": "markdown",
   "metadata": {},
   "source": [
    "# 进入网址"
   ]
  },
  {
   "cell_type": "code",
   "execution_count": 4,
   "metadata": {},
   "outputs": [],
   "source": [
    "from selenium import webdriver\n",
    "import re,time\n",
    "driver = webdriver.Chrome()\n",
    "driver.get(\"https://zjiet.cpdaily.com/portal/index.html\")"
   ]
  },
  {
   "cell_type": "markdown",
   "metadata": {},
   "source": [
    "# 登录"
   ]
  },
  {
   "cell_type": "code",
   "execution_count": 5,
   "metadata": {},
   "outputs": [],
   "source": [
    "time.sleep(1)\n",
    "driver.find_element_by_xpath(\"//div[@id='ampHasNoLogin']/span\").click()\n",
    "time.sleep(1)\n",
    "driver.find_element_by_xpath(\"//input[@type='text']\").send_keys(\"2018000013\")\n",
    "driver.find_element_by_xpath(\"//input[@type='password']\").click()\n",
    "driver.find_element_by_xpath(\"//input[@type='password']\").clear()\n",
    "driver.find_element_by_xpath(\"//input[@type='password']\").send_keys(\"qw123456\")\n",
    "time.sleep(1)\n",
    "driver.find_element_by_xpath(\"//div[@id='app']/div/div/div/div/div[2]/div/div[2]/div/div/div[4]/div/span\").click()\n",
    "time.sleep(1)"
   ]
  },
  {
   "cell_type": "markdown",
   "metadata": {},
   "source": [
    "# 请假页面"
   ]
  },
  {
   "cell_type": "code",
   "execution_count": 6,
   "metadata": {},
   "outputs": [],
   "source": [
    "driver.get(\"https://zjiet.cpdaily.com/wec-counselor-leave-apps/leaveadmin/pcAdmin/index.html#/list\")\n",
    "time.sleep(1)"
   ]
  },
  {
   "cell_type": "code",
   "execution_count": 7,
   "metadata": {},
   "outputs": [],
   "source": [
    "#已审批页面（用于测试名称的提取）\n",
    "#driver.find_element_by_xpath(\"//div[2]/div[2]/div/div/div/div/div/div/div[3]\").click()"
   ]
  },
  {
   "cell_type": "markdown",
   "metadata": {},
   "source": [
    "# 任务一最后一步：知道当前班主任，有多少个请假"
   ]
  },
  {
   "cell_type": "code",
   "execution_count": 8,
   "metadata": {},
   "outputs": [
    {
     "name": "stdout",
     "output_type": "stream",
     "text": [
      "['倪新宇']\n",
      "人数： 1\n"
     ]
    }
   ],
   "source": [
    "html = driver.page_source\n",
    "li = _extract_names(html)\n",
    "print(li)\n",
    "print(\"人数：\",len(li))"
   ]
  },
  {
   "cell_type": "markdown",
   "metadata": {},
   "source": [
    "# 任务二：给定学生名字，自动完成批准请假工作"
   ]
  },
  {
   "cell_type": "code",
   "execution_count": 9,
   "metadata": {},
   "outputs": [
    {
     "name": "stdout",
     "output_type": "stream",
     "text": [
      "请假批改完毕\n"
     ]
    }
   ],
   "source": [
    "pg_qingjia()"
   ]
  },
  {
   "cell_type": "markdown",
   "metadata": {},
   "source": [
    "# 任务三"
   ]
  },
  {
   "cell_type": "code",
   "execution_count": 10,
   "metadata": {},
   "outputs": [],
   "source": [
    "#暂时搁置"
   ]
  }
 ],
 "metadata": {
  "kernelspec": {
   "display_name": "Python 3",
   "language": "python",
   "name": "python3"
  },
  "language_info": {
   "codemirror_mode": {
    "name": "ipython",
    "version": 3
   },
   "file_extension": ".py",
   "mimetype": "text/x-python",
   "name": "python",
   "nbconvert_exporter": "python",
   "pygments_lexer": "ipython3",
   "version": "3.7.1"
  }
 },
 "nbformat": 4,
 "nbformat_minor": 2
}
